{
 "cells": [
  {
   "cell_type": "code",
   "execution_count": 31,
   "metadata": {
    "collapsed": false
   },
   "outputs": [],
   "source": [
    "import os,sys\n",
    "sys.argv.append(\"-b\")\n",
    "import ROOT as rt\n",
    "import numpy as np\n",
    "import matplotlib.pyplot as plt\n",
    "%matplotlib inline"
   ]
  },
  {
   "cell_type": "code",
   "execution_count": 5,
   "metadata": {
    "collapsed": true
   },
   "outputs": [],
   "source": [
    "training_output_file_name='/home/ecohen/UBImageNetTune/nohup.out'\n",
    "ntraining =  100232\n",
    "nevents_per_iteration = 8"
   ]
  },
  {
   "cell_type": "code",
   "execution_count": 7,
   "metadata": {
    "collapsed": false
   },
   "outputs": [],
   "source": [
    "iters_per_point = 20\n",
    "test_iters_per_point = 100\n",
    "nevents_per_epoch = float(ntraining)/float(nevents_per_iteration)\n",
    "f = open(training_output_file_name,'r')\n",
    "out = rt.TFile(\"plots_training.root\", \"recreate\")"
   ]
  },
  {
   "cell_type": "code",
   "execution_count": 8,
   "metadata": {
    "collapsed": true
   },
   "outputs": [],
   "source": [
    "loss_pts = []\n",
    "acc_pts = []\n",
    "train_acc_pts = []\n",
    "niter = 0\n",
    "niter_test = 0\n",
    "niter_trainacc = 0\n",
    "loss_max = 0"
   ]
  },
  {
   "cell_type": "code",
   "execution_count": 9,
   "metadata": {
    "collapsed": true
   },
   "outputs": [],
   "source": [
    "for l in f:\n",
    "    if \"solver.cpp:244\" in l and \"Train net output #1: loss3/loss3\" in l:\n",
    "        # TRAINING LOSS\n",
    "        loss = float( l.strip().split(\"=\")[1].split(\"(\")[0].strip() )\n",
    "        loss_pts.append( (niter,loss) )\n",
    "        niter += iters_per_point\n",
    "        if loss_max<loss:\n",
    "            loss_max = loss\n",
    "    elif \"Test net output #2: loss3/top-1\" in l:\n",
    "        # VAL ACC\n",
    "        acc = float( l.strip().split(\"=\")[1] )\n",
    "        acc_pts.append( (niter_test,acc) )\n",
    "        niter_test += test_iters_per_point\n",
    "    elif \"Train net output #2: loss3/top-1\" in l:\n",
    "        # TRAIN ACC\n",
    "        train_acc = float( l.strip().split(\"=\")[1] )\n",
    "        train_acc_pts.append( (niter_trainacc, train_acc ) )\n",
    "        niter_trainacc += iters_per_point"
   ]
  },
  {
   "cell_type": "code",
   "execution_count": 10,
   "metadata": {
    "collapsed": true
   },
   "outputs": [],
   "source": [
    "gloss = rt.TGraph( len(loss_pts) )\n",
    "for n,pt in enumerate(loss_pts):\n",
    "    gloss.SetPoint(n, float(pt[0])/nevents_per_epoch, pt[1])\n",
    "\n",
    "gacc = rt.TGraph( len(acc_pts) )\n",
    "for n,pt in enumerate(acc_pts):\n",
    "    gacc.SetPoint(n,float(pt[0])/nevents_per_epoch, pt[1])\n",
    "\n",
    "gacc_train = rt.TGraph( len(train_acc_pts) )\n",
    "for n,pt in enumerate(train_acc_pts):\n",
    "    gacc_train.SetPoint(n,float(pt[0])/nevents_per_epoch, pt[1])"
   ]
  },
  {
   "cell_type": "code",
   "execution_count": 11,
   "metadata": {
    "collapsed": false
   },
   "outputs": [
    {
     "data": {
      "text/plain": [
       "1823"
      ]
     },
     "execution_count": 11,
     "metadata": {},
     "output_type": "execute_result"
    }
   ],
   "source": [
    "gloss.Write(\"gloss\")\n",
    "gacc.Write(\"gacc_test\")\n",
    "gacc_train.Write(\"gacc_train\")"
   ]
  },
  {
   "cell_type": "code",
   "execution_count": 34,
   "metadata": {
    "collapsed": false
   },
   "outputs": [],
   "source": [
    "x_ratio_to_nevents_per_epoch_loss_pts = []\n",
    "y_ratio_to_nevents_per_epoch_loss_pts = []\n",
    "for n,pt in enumerate(loss_pts):\n",
    "    x_ratio_to_nevents_per_epoch_loss_pts.append(pt[1])\n",
    "    y_ratio_to_nevents_per_epoch_loss_pts.append(float(pt[0])/nevents_per_epoch)\n",
    "    \n",
    "x_ratio_to_nevents_per_epoch_train_acc_pts = []\n",
    "y_ratio_to_nevents_per_epoch_train_acc_pts = []\n",
    "for n,pt in enumerate(train_acc_pts):\n",
    "    x_ratio_to_nevents_per_epoch_train_acc_pts.append(pt[1])\n",
    "    y_ratio_to_nevents_per_epoch_train_acc_pts.append(float(pt[0])/nevents_per_epoch)"
   ]
  },
  {
   "cell_type": "code",
   "execution_count": 43,
   "metadata": {
    "collapsed": false
   },
   "outputs": [
    {
     "data": {
      "text/plain": [
       "<matplotlib.text.Text at 0x7f61147a3e10>"
      ]
     },
     "execution_count": 43,
     "metadata": {},
     "output_type": "execute_result"
    },
    {
     "data": {
      "image/png": "[encoded data removed]",
      "text/plain": [
       "<matplotlib.figure.Figure at 0x7f611472bad0>"
      ]
     },
     "metadata": {},
     "output_type": "display_data"
    }
   ],
   "source": [
    "fig = plt.figure(figsize=(12,6))    \n",
    "ax = fig.add_subplot(1,2,1)\n",
    "plt.plot(x_ratio_to_nevents_per_epoch_loss_pts,y_ratio_to_nevents_per_epoch_loss_pts,marker='o',linestyle='none')\n",
    "ax.set_yscale('log')\n",
    "plt.title('Loss Curve')\n",
    "plt.xlabel('epochs')\n",
    "plt.ylabel('loss')\n",
    "\n",
    "ax = fig.add_subplot(1,2,2)\n",
    "plt.plot(x_ratio_to_nevents_per_epoch_train_acc_pts,y_ratio_to_nevents_per_epoch_train_acc_pts,marker='o',linestyle='none')\n",
    "ax.set_yscale('log')\n",
    "plt.title('Accuracy')\n",
    "plt.xlabel('epochs')\n",
    "plt.ylabel('accuracy')"
   ]
  },
  {
   "cell_type": "code",
   "execution_count": null,
   "metadata": {
    "collapsed": true
   },
   "outputs": [],
   "source": []
  }
 ],
 "metadata": {
  "kernelspec": {
   "display_name": "Python 2",
   "language": "python",
   "name": "python2"
  },
  "language_info": {
   "codemirror_mode": {
    "name": "ipython",
    "version": 2
   },
   "file_extension": ".py",
   "mimetype": "text/x-python",
   "name": "python",
   "nbconvert_exporter": "python",
   "pygments_lexer": "ipython2",
   "version": "2.7.6"
  }
 },
 "nbformat": 4,
 "nbformat_minor": 0
}
